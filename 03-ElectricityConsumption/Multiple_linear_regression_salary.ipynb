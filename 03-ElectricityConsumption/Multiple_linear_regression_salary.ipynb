{
 "cells": [
  {
   "cell_type": "markdown",
   "id": "3b9778f7",
   "metadata": {},
   "source": [
    "# Multiple Linear Regression\n",
    "The dataset consist with three columns.\n",
    "• Home Size (SqFt) Representing the total area of the house in square feet.\n",
    "• Heating Type Indicating the primary heating system used in the household (e.g., Electric, Gas, Heat Pump, Solar Hybrid).\n",
    "• Monthly kWh Target variable representing the monthly household energy con sumption.\n",
    "Since we have three variable so we are interested in building a Multiple Linear Regression model."
   ]
  },
  {
   "cell_type": "code",
   "execution_count": 40,
   "id": "4d2dfd22",
   "metadata": {},
   "outputs": [
    {
     "name": "stdout",
     "output_type": "stream",
     "text": [
      "Requirement already satisfied: pandas in /opt/anaconda3/lib/python3.12/site-packages (2.2.2)\n",
      "Requirement already satisfied: numpy in /opt/anaconda3/lib/python3.12/site-packages (1.26.4)\n",
      "Requirement already satisfied: matplotlib in /opt/anaconda3/lib/python3.12/site-packages (3.9.2)\n",
      "Requirement already satisfied: seaborn in /opt/anaconda3/lib/python3.12/site-packages (0.13.2)\n",
      "Requirement already satisfied: scikit-learn in /opt/anaconda3/lib/python3.12/site-packages (1.5.1)\n",
      "Requirement already satisfied: scipy in /opt/anaconda3/lib/python3.12/site-packages (1.13.1)\n",
      "Requirement already satisfied: statsmodels in /opt/anaconda3/lib/python3.12/site-packages (0.14.2)\n",
      "Requirement already satisfied: python-dateutil>=2.8.2 in /opt/anaconda3/lib/python3.12/site-packages (from pandas) (2.9.0.post0)\n",
      "Requirement already satisfied: pytz>=2020.1 in /opt/anaconda3/lib/python3.12/site-packages (from pandas) (2024.1)\n",
      "Requirement already satisfied: tzdata>=2022.7 in /opt/anaconda3/lib/python3.12/site-packages (from pandas) (2023.3)\n",
      "Requirement already satisfied: contourpy>=1.0.1 in /opt/anaconda3/lib/python3.12/site-packages (from matplotlib) (1.2.0)\n",
      "Requirement already satisfied: cycler>=0.10 in /opt/anaconda3/lib/python3.12/site-packages (from matplotlib) (0.11.0)\n",
      "Requirement already satisfied: fonttools>=4.22.0 in /opt/anaconda3/lib/python3.12/site-packages (from matplotlib) (4.51.0)\n",
      "Requirement already satisfied: kiwisolver>=1.3.1 in /opt/anaconda3/lib/python3.12/site-packages (from matplotlib) (1.4.4)\n",
      "Requirement already satisfied: packaging>=20.0 in /opt/anaconda3/lib/python3.12/site-packages (from matplotlib) (24.1)\n",
      "Requirement already satisfied: pillow>=8 in /opt/anaconda3/lib/python3.12/site-packages (from matplotlib) (10.4.0)\n",
      "Requirement already satisfied: pyparsing>=2.3.1 in /opt/anaconda3/lib/python3.12/site-packages (from matplotlib) (3.1.2)\n",
      "Requirement already satisfied: joblib>=1.2.0 in /opt/anaconda3/lib/python3.12/site-packages (from scikit-learn) (1.4.2)\n",
      "Requirement already satisfied: threadpoolctl>=3.1.0 in /opt/anaconda3/lib/python3.12/site-packages (from scikit-learn) (3.5.0)\n",
      "Requirement already satisfied: patsy>=0.5.6 in /opt/anaconda3/lib/python3.12/site-packages (from statsmodels) (0.5.6)\n",
      "Requirement already satisfied: six in /opt/anaconda3/lib/python3.12/site-packages (from patsy>=0.5.6->statsmodels) (1.16.0)\n",
      "Note: you may need to restart the kernel to use updated packages.\n"
     ]
    }
   ],
   "source": [
    "\n",
    "%pip install pandas numpy matplotlib seaborn scikit-learn scipy statsmodels"
   ]
  },
  {
   "cell_type": "markdown",
   "id": "eda453b4",
   "metadata": {},
   "source": [
    "### 1. **Problem Understanding**\n",
    "\n",
    "* **Goal**: The primary research task is to apply Multiple Linear Regres sion (MLR) to model the relationship between home size, heating type, and monthly energy consumption.\n",
    "The goals of this work are as follows\n",
    "1. To analyze the influence of home size and heating type on monthly electricity usage.\n",
    "2. To construct a regression equation that predicts energy consumption (ˆy) based on the explanatory variables.\n",
    "3. To evaluate the model’s predictive performance using appropriate regression metrics such as R2, Mean Absolute Error (MAE), and Root Mean Squared Error (RMSE).\n",
    "* **Type**: Supervised learning — Regression problem."
   ]
  },
  {
   "cell_type": "markdown",
   "id": "587a23e0",
   "metadata": {},
   "source": [
    "### 2. **Exploratory Data Analysis (EDA)**\n",
    "\n",
    "* Data shape and types\n",
    "* Null values\n",
    "* Descriptive statistics\n",
    "* Correlation\n",
    "* Outliers\n",
    "* Visual trends"
   ]
  },
  {
   "cell_type": "code",
   "execution_count": 41,
   "id": "aa2a246e",
   "metadata": {},
   "outputs": [],
   "source": [
    "import pandas as pd\n",
    "import numpy as np\n",
    "import matplotlib.pyplot as plt\n",
    "from sklearn.model_selection import train_test_split\n",
    "from sklearn.linear_model import LinearRegression\n",
    "from sklearn.metrics import r2_score, mean_absolute_error, mean_squared_error\n",
    "from sklearn.preprocessing import OneHotEncoder\n",
    "from sklearn.compose import ColumnTransformer\n",
    "from sklearn import linear_model\n",
    "from sklearn.impute import SimpleImputer"
   ]
  },
  {
   "cell_type": "code",
   "execution_count": 42,
   "id": "a9a75b7b",
   "metadata": {},
   "outputs": [
    {
     "data": {
      "application/vnd.microsoft.datawrangler.viewer.v0+json": {
       "columns": [
        {
         "name": "index",
         "rawType": "int64",
         "type": "integer"
        },
        {
         "name": "Home_Size_SqFt",
         "rawType": "float64",
         "type": "float"
        },
        {
         "name": "Heating_Type",
         "rawType": "object",
         "type": "string"
        },
        {
         "name": "Monthly_kWh",
         "rawType": "float64",
         "type": "float"
        }
       ],
       "ref": "d1de0bd8-838b-42ff-afb6-fe943d2ebf9b",
       "rows": [
        [
         "0",
         "1250.0",
         "Electric",
         "875.0"
        ],
        [
         "1",
         null,
         "Gas",
         "720.0"
        ],
        [
         "2",
         "1680.0",
         "Electric",
         "1120.0"
        ],
        [
         "3",
         "950.0",
         "Heat_Pump",
         "580.0"
        ],
        [
         "4",
         "1850.0",
         "Gas",
         null
        ]
       ],
       "shape": {
        "columns": 3,
        "rows": 5
       }
      },
      "text/html": [
       "<div>\n",
       "<style scoped>\n",
       "    .dataframe tbody tr th:only-of-type {\n",
       "        vertical-align: middle;\n",
       "    }\n",
       "\n",
       "    .dataframe tbody tr th {\n",
       "        vertical-align: top;\n",
       "    }\n",
       "\n",
       "    .dataframe thead th {\n",
       "        text-align: right;\n",
       "    }\n",
       "</style>\n",
       "<table border=\"1\" class=\"dataframe\">\n",
       "  <thead>\n",
       "    <tr style=\"text-align: right;\">\n",
       "      <th></th>\n",
       "      <th>Home_Size_SqFt</th>\n",
       "      <th>Heating_Type</th>\n",
       "      <th>Monthly_kWh</th>\n",
       "    </tr>\n",
       "  </thead>\n",
       "  <tbody>\n",
       "    <tr>\n",
       "      <th>0</th>\n",
       "      <td>1250.0</td>\n",
       "      <td>Electric</td>\n",
       "      <td>875.0</td>\n",
       "    </tr>\n",
       "    <tr>\n",
       "      <th>1</th>\n",
       "      <td>NaN</td>\n",
       "      <td>Gas</td>\n",
       "      <td>720.0</td>\n",
       "    </tr>\n",
       "    <tr>\n",
       "      <th>2</th>\n",
       "      <td>1680.0</td>\n",
       "      <td>Electric</td>\n",
       "      <td>1120.0</td>\n",
       "    </tr>\n",
       "    <tr>\n",
       "      <th>3</th>\n",
       "      <td>950.0</td>\n",
       "      <td>Heat_Pump</td>\n",
       "      <td>580.0</td>\n",
       "    </tr>\n",
       "    <tr>\n",
       "      <th>4</th>\n",
       "      <td>1850.0</td>\n",
       "      <td>Gas</td>\n",
       "      <td>NaN</td>\n",
       "    </tr>\n",
       "  </tbody>\n",
       "</table>\n",
       "</div>"
      ],
      "text/plain": [
       "   Home_Size_SqFt Heating_Type  Monthly_kWh\n",
       "0          1250.0     Electric        875.0\n",
       "1             NaN          Gas        720.0\n",
       "2          1680.0     Electric       1120.0\n",
       "3           950.0    Heat_Pump        580.0\n",
       "4          1850.0          Gas          NaN"
      ]
     },
     "execution_count": 42,
     "metadata": {},
     "output_type": "execute_result"
    }
   ],
   "source": [
    "\n",
    "\n",
    "file_path = \"electricityConsumption - electricityConsumption.csv\"  \n",
    "df = pd.read_csv(file_path)\n",
    "df.head()"
   ]
  },
  {
   "cell_type": "markdown",
   "id": "6f1733d8",
   "metadata": {},
   "source": [
    "### Exploratory Data Analysis (EDA) Summary\n",
    "\n"
   ]
  },
  {
   "cell_type": "code",
   "execution_count": 43,
   "id": "608a9fe3",
   "metadata": {},
   "outputs": [
    {
     "name": "stdout",
     "output_type": "stream",
     "text": [
      "\n",
      "Dataset Info:\n",
      "<class 'pandas.core.frame.DataFrame'>\n",
      "RangeIndex: 101 entries, 0 to 100\n",
      "Data columns (total 3 columns):\n",
      " #   Column          Non-Null Count  Dtype  \n",
      "---  ------          --------------  -----  \n",
      " 0   Home_Size_SqFt  92 non-null     float64\n",
      " 1   Heating_Type    97 non-null     object \n",
      " 2   Monthly_kWh     90 non-null     float64\n",
      "dtypes: float64(2), object(1)\n",
      "memory usage: 2.5+ KB\n",
      "None\n",
      "\n",
      "Missing Values:\n",
      "Home_Size_SqFt     9\n",
      "Heating_Type       4\n",
      "Monthly_kWh       11\n",
      "dtype: int64\n"
     ]
    }
   ],
   "source": [
    "print(\"\\nDataset Info:\")\n",
    "print(df.info())\n",
    "print(\"\\nMissing Values:\")\n",
    "print(df.isnull().sum())"
   ]
  },
  {
   "cell_type": "code",
   "execution_count": 44,
   "id": "5f902d27",
   "metadata": {
    "vscode": {
     "languageId": "markdown"
    }
   },
   "outputs": [],
   "source": [
    "## Step 3: Data Preprocessing\n",
    "# 1. Drop rows where target variable (Monthly_kWh) is missing\n",
    "df = df.dropna(subset=['Monthly_kWh'])"
   ]
  },
  {
   "cell_type": "code",
   "execution_count": 45,
   "id": "f03510a2",
   "metadata": {},
   "outputs": [],
   "source": [
    "# Define numeric and categorical features\n",
    "numeric_features = ['Home_Size_SqFt']\n",
    "categorical_features = ['Heating_Type']\n",
    "\n",
    "\n",
    "# Impute numeric with median, categorical with most frequent\n",
    "numeric_transformer = SimpleImputer(strategy='median')\n",
    "categorical_transformer = Pipeline(steps=[\n",
    "('imputer', SimpleImputer(strategy='most_frequent')),\n",
    "('encoder', OneHotEncoder(drop='first', handle_unknown='ignore'))\n",
    "])\n",
    "\n",
    "\n",
    "# Combine preprocessing\n",
    "preprocessor = ColumnTransformer(transformers=[\n",
    "('num', numeric_transformer, numeric_features),\n",
    "('cat', categorical_transformer, categorical_features)\n",
    "])"
   ]
  },
  {
   "cell_type": "markdown",
   "id": "081960a6",
   "metadata": {},
   "source": [
    "## Step 3: Data Preprocessing\n",
    "\n",
    "1. Split Data into Train/Test"
   ]
  },
  {
   "cell_type": "code",
   "execution_count": 46,
   "id": "a8e63ce2",
   "metadata": {},
   "outputs": [],
   "source": [
    "\n",
    "X = df[['Home_Size_SqFt', 'Heating_Type']]\n",
    "y = df['Monthly_kWh']\n",
    "X_train, X_test, y_train, y_test = train_test_split(X, y, test_size=0.2)\n"
   ]
  },
  {
   "cell_type": "markdown",
   "id": "a86c5048",
   "metadata": {},
   "source": [
    "## Step 4: Linear Regression Model Training"
   ]
  },
  {
   "cell_type": "code",
   "execution_count": 75,
   "id": "8dfabf8c",
   "metadata": {},
   "outputs": [
    {
     "name": "stdout",
     "output_type": "stream",
     "text": [
      "Model trained.\n"
     ]
    }
   ],
   "source": [
    "model = Pipeline(steps=[('preprocessor', preprocessor),\n",
    "('regressor', LinearRegression())])\n",
    "model.fit(X_train, y_train)\n",
    "print('Model trained.')\n",
    "\n"
   ]
  },
  {
   "cell_type": "markdown",
   "id": "2bc929b5",
   "metadata": {},
   "source": [
    "## Step6. Extract Coefficients"
   ]
  },
  {
   "cell_type": "code",
   "execution_count": 73,
   "id": "bb93240c",
   "metadata": {},
   "outputs": [
    {
     "name": "stdout",
     "output_type": "stream",
     "text": [
      "\n",
      "Regression Coefficients:\n",
      "                     Feature  Coefficient\n",
      "0             Home_Size_SqFt     0.610914\n",
      "1           Heating_Type_Gas  -120.053944\n",
      "2     Heating_Type_Heat_Pump  -156.462037\n",
      "3  Heating_Type_Solar_Hybrid  -252.643730\n"
     ]
    }
   ],
   "source": [
    "# Retrieve regression coefficients after preprocessing\n",
    "model_reg = model.named_steps['regressor']\n",
    "feature_names = numeric_features + list(model.named_steps['preprocessor']\n",
    ".named_transformers_['cat']\n",
    ".named_steps['encoder']\n",
    ".get_feature_names_out(categorical_features))\n",
    "coef = pd.DataFrame({'Feature': feature_names, 'Coefficient': model_reg.coef_})\n",
    "print(\"\\nRegression Coefficients:\")\n",
    "print(coef)\n",
    "\n",
    "\n"
   ]
  },
  {
   "cell_type": "markdown",
   "id": "74d324b2",
   "metadata": {},
   "source": [
    "## Step 5: Model Evaluation\n",
    "\n",
    "1. Predict salaries on both training and test sets\n",
    "2. Compute key metrics:\n",
    "\n",
    "   * R² Score\n",
    "   * MAE (Mean Absolute Error)\n",
    "   * MSE (Mean Squared Error)\n",
    "   * RMSE (Root Mean Squared Error)"
   ]
  },
  {
   "cell_type": "code",
   "execution_count": 71,
   "id": "f81cd1e6",
   "metadata": {},
   "outputs": [
    {
     "name": "stdout",
     "output_type": "stream",
     "text": [
      "\n",
      "Model Performance:\n",
      "R² Score: 0.9081\n",
      "Mean Absolute Error: 59.32\n",
      "Root Mean Squared Error: 88.42\n"
     ]
    }
   ],
   "source": [
    "y_pred = model.predict(X_test)\n",
    "R2 = r2_score(y_test, y_pred)\n",
    "MAE = mean_absolute_error(y_test, y_pred)\n",
    "RMSE = np.sqrt(mean_squared_error(y_test, y_pred))\n",
    "\n",
    "\n",
    "print(\"\\nModel Performance:\")\n",
    "print(f\"R² Score: {R2:.4f}\")\n",
    "print(f\"Mean Absolute Error: {MAE:.2f}\")\n",
    "print(f\"Root Mean Squared Error: {RMSE:.2f}\")\n",
    "\n"
   ]
  }
 ],
 "metadata": {
  "kernelspec": {
   "display_name": "base",
   "language": "python",
   "name": "python3"
  },
  "language_info": {
   "codemirror_mode": {
    "name": "ipython",
    "version": 3
   },
   "file_extension": ".py",
   "mimetype": "text/x-python",
   "name": "python",
   "nbconvert_exporter": "python",
   "pygments_lexer": "ipython3",
   "version": "3.12.7"
  }
 },
 "nbformat": 4,
 "nbformat_minor": 5
}
